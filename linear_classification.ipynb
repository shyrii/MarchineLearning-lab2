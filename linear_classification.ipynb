{
 "cells": [
  {
   "cell_type": "code",
   "execution_count": 1,
   "metadata": {},
   "outputs": [],
   "source": [
    "import requests\n",
    "import numpy as np\n",
    "r=requests.get('''https://www.csie.ntu.edu.tw/~cjlin/libsvmtools/datasets/binary/a9a''')\n",
    "t=requests.get('''https://www.csie.ntu.edu.tw/~cjlin/libsvmtools/datasets/binary/a9a.t''')"
   ]
  },
  {
   "cell_type": "code",
   "execution_count": 2,
   "metadata": {},
   "outputs": [],
   "source": [
    "from sklearn.datasets import load_svmlight_file\n",
    "from io import BytesIO\n",
    "x_train,y_train=load_svmlight_file(f=BytesIO(r.content),n_features=123)\n",
    "x_val,y_val=load_svmlight_file(f=BytesIO(t.content),n_features=123)"
   ]
  },
  {
   "cell_type": "code",
   "execution_count": 3,
   "metadata": {},
   "outputs": [
    {
     "name": "stdout",
     "output_type": "stream",
     "text": [
      "(32561, 123)\n"
     ]
    }
   ],
   "source": [
    "y_train = y_train.reshape(y_train.shape[0], 1)\n",
    "y_val = y_val.reshape(y_val.shape[0], 1)\n",
    "print(x_train.shape)"
   ]
  },
  {
   "cell_type": "code",
   "execution_count": 4,
   "metadata": {},
   "outputs": [],
   "source": [
    "n_samples,n_features=x_train.shape\n",
    "losses_train=[]\n",
    "losses_val=[]\n",
    "batch_size=64\n",
    "max_epoch=2000\n",
    "learning_rate=0.01\n",
    "C=0.5"
   ]
  },
  {
   "cell_type": "code",
   "execution_count": 5,
   "metadata": {},
   "outputs": [
    {
     "name": "stdout",
     "output_type": "stream",
     "text": [
      "(123, 1)\n"
     ]
    }
   ],
   "source": [
    "w = np.ones((n_features,1))\n",
    "print(w.shape)"
   ]
  },
  {
   "cell_type": "code",
   "execution_count": 6,
   "metadata": {},
   "outputs": [],
   "source": [
    "def loss(a,b):\n",
    "    e=np.maximum(0,(1-a*b))\n",
    "    return ((C*e.sum())+0.5*np.dot(w.transpose(),w).sum()) / b.shape[0]         \n"
   ]
  },
  {
   "cell_type": "code",
   "execution_count": 7,
   "metadata": {},
   "outputs": [
    {
     "name": "stdout",
     "output_type": "stream",
     "text": [
      "5.638478547956144\n",
      "5.671242552668755\n"
     ]
    }
   ],
   "source": [
    "loss_train = loss(x_train.dot(w), y_train)\n",
    "loss_val = loss(x_val.dot(w), y_val)\n",
    "print(loss_train)\n",
    "print(loss_val)"
   ]
  },
  {
   "cell_type": "code",
   "execution_count": 8,
   "metadata": {},
   "outputs": [],
   "source": [
    "for epoch in range(max_epoch):\n",
    "    \n",
    "    batch_sample=np.random.choice(x_train.shape[0],batch_size)\n",
    "    x=x_train[batch_sample]\n",
    "    y=y_train[batch_sample]\n",
    "    y[1 - y * (x .dot(w)) < 0] = 0\n",
    "    G=(-1)*(x.T.dot(y))/y.shape[0]\n",
    "    G=-G\n",
    "    w+=learning_rate*G   \n",
    "    #train_predict=x_train.dot(w) .T.dot(y))\n",
    "    #losses_train.append(loss(train_predict,y_train)[0])\n",
    "    val_predict=x_val.dot(w)\n",
    "    losses_val.append(loss(val_predict,y_val))\n",
    "   "
   ]
  },
  {
   "cell_type": "code",
   "execution_count": 10,
   "metadata": {},
   "outputs": [
    {
     "data": {
      "text/plain": [
       "Text(0.5,1,'loss')"
      ]
     },
     "execution_count": 10,
     "metadata": {},
     "output_type": "execute_result"
    },
    {
     "data": {
      "image/png": "[encoded data removed]",
      "text/plain": [
       "<Figure size 1296x432 with 1 Axes>"
      ]
     },
     "metadata": {
      "needs_background": "light"
     },
     "output_type": "display_data"
    }
   ],
   "source": [
    "import matplotlib.pyplot as plt\n",
    "\n",
    "plt.figure(figsize=(18, 6))\n",
    "#plt.plot(losses_train, '--', c='b',linewidth=4, label='train')\n",
    "plt.plot(losses_val, c='r', linewidth=2, label='valid')\n",
    "plt.xlabel(\"epoch\")\n",
    "plt.ylabel(\"loss\")\n",
    "plt.legend()\n",
    "plt.title(\"loss\")\n"
   ]
  }
 ],
 "metadata": {
  "kernelspec": {
   "display_name": "Python 3",
   "language": "python",
   "name": "python3"
  },
  "language_info": {
   "codemirror_mode": {
    "name": "ipython",
    "version": 3
   },
   "file_extension": ".py",
   "mimetype": "text/x-python",
   "name": "python",
   "nbconvert_exporter": "python",
   "pygments_lexer": "ipython3",
   "version": "3.7.0"
  }
 },
 "nbformat": 4,
 "nbformat_minor": 2
}
