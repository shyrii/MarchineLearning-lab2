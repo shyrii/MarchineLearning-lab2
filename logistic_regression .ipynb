{
 "cells": [
  {
   "cell_type": "code",
   "execution_count": 1,
   "metadata": {},
   "outputs": [],
   "source": [
    "import requests\n",
    "import numpy\n",
    "r=requests.get('''https://www.csie.ntu.edu.tw/~cjlin/libsvmtools/datasets/binary/a9a''')\n",
    "t=requests.get('''https://www.csie.ntu.edu.tw/~cjlin/libsvmtools/datasets/binary/a9a.t''')\n"
   ]
  },
  {
   "cell_type": "code",
   "execution_count": 2,
   "metadata": {},
   "outputs": [],
   "source": [
    "from sklearn.datasets import load_svmlight_file\n",
    "from io import BytesIO\n",
    "x_train,y_train=load_svmlight_file(f=BytesIO(r.content),n_features=123)\n",
    "x_train=x_train.toarray()\n",
    "x_val,y_val=load_svmlight_file(f=BytesIO(t.content),n_features=123)\n",
    "x_val=x_val.toarray();"
   ]
  },
  {
   "cell_type": "code",
   "execution_count": 3,
   "metadata": {},
   "outputs": [
    {
     "name": "stdout",
     "output_type": "stream",
     "text": [
      "[[0.]\n",
      " [0.]\n",
      " [0.]\n",
      " ...\n",
      " [0.]\n",
      " [0.]\n",
      " [1.]]\n",
      "[[0.]\n",
      " [0.]\n",
      " [1.]\n",
      " ...\n",
      " [0.]\n",
      " [0.]\n",
      " [1.]]\n"
     ]
    }
   ],
   "source": [
    "n_samples,n_features=x_train.shape\n",
    "x_train=numpy.column_stack((x_train,numpy.ones((n_samples,1))))\n",
    "y_train = y_train.reshape(y_train.shape[0], 1)\n",
    "y_train[y_train<0]=0\n",
    "print(y_train)\n",
    "n_samples,n_features=x_val.shape\n",
    "x_val=numpy.column_stack((x_val,numpy.ones((n_samples,1))))\n",
    "y_val = y_val.reshape(y_val.shape[0], 1)\n",
    "y_val[y_val<0]=0\n",
    "print(y_val)\n"
   ]
  },
  {
   "cell_type": "code",
   "execution_count": 28,
   "metadata": {},
   "outputs": [],
   "source": [
    "batch_size=64\n",
    "max_epoch=2000\n",
    "learning_rate=0.01\n",
    "losses_train=[]\n",
    "losses_val=[]\n",
    "n_features=123"
   ]
  },
  {
   "cell_type": "code",
   "execution_count": 29,
   "metadata": {},
   "outputs": [
    {
     "name": "stdout",
     "output_type": "stream",
     "text": [
      "(124, 1)\n"
     ]
    }
   ],
   "source": [
    "w = numpy.ones(n_features+1).reshape(-1,1)\n",
    "print(w.shape)"
   ]
  },
  {
   "cell_type": "code",
   "execution_count": 6,
   "metadata": {},
   "outputs": [],
   "source": [
    "def sigmoid(x):\n",
    "    return 1 / (1 + numpy.exp(-x))\n",
    "def loss(a,b):\n",
    "    return -1/b.shape[0] * (b*numpy.log(sigmoid(a))+(1-b)*numpy.log(1-sigmoid(a))).sum()"
   ]
  },
  {
   "cell_type": "code",
   "execution_count": 32,
   "metadata": {},
   "outputs": [],
   "source": [
    "losses_val = []\n",
    "for epoch in range(max_epoch):\n",
    "    \n",
    "    batch_sample=numpy.random.choice(x_train.shape[0],batch_size)\n",
    "    x=x_train[batch_sample]\n",
    "    y=y_train[batch_sample]\n",
    "    G=1/batch_size*numpy.dot((sigmoid(x@w)-y).T,x).T\n",
    "    G=-G\n",
    "    w+=learning_rate*G\n",
    "        \n",
    "    \n",
    "    y_predict=x_val.dot(w)\n",
    "    a=sigmoid(y_predict)\n",
    "    #y_predict[sigmoid(y_predict)>0.5]=1\n",
    "    #y_predict[sigmoid(y_predict)<=0.5]=0\n",
    "    losses_val.append(loss(y_predict,y_val))\n",
    "  \n"
   ]
  },
  {
   "cell_type": "code",
   "execution_count": 33,
   "metadata": {},
   "outputs": [
    {
     "data": {
      "text/plain": [
       "Text(0.5,1,'The graph of absolute diff value varing with the number of iterations')"
      ]
     },
     "execution_count": 33,
     "metadata": {},
     "output_type": "execute_result"
    },
    {
     "data": {
      "image/png": "[encoded data removed]",
      "text/plain": [
       "<Figure size 1296x432 with 1 Axes>"
      ]
     },
     "metadata": {
      "needs_background": "light"
     },
     "output_type": "display_data"
    }
   ],
   "source": [
    "import matplotlib.pyplot as plt\n",
    "\n",
    "plt.figure(figsize=(18, 6))\n",
    "plt.plot(losses_val, c='r', linewidth=2, label='valid')\n",
    "plt.xlabel(\"epoch\")\n",
    "plt.ylabel(\"loss\")\n",
    "plt.legend()\n",
    "plt.title(\"The graph of absolute diff value varing with the number of iterations\")"
   ]
  }
 ],
 "metadata": {
  "kernelspec": {
   "display_name": "Python 3",
   "language": "python",
   "name": "python3"
  },
  "language_info": {
   "codemirror_mode": {
    "name": "ipython",
    "version": 3
   },
   "file_extension": ".py",
   "mimetype": "text/x-python",
   "name": "python",
   "nbconvert_exporter": "python",
   "pygments_lexer": "ipython3",
   "version": "3.7.0"
  }
 },
 "nbformat": 4,
 "nbformat_minor": 2
}
